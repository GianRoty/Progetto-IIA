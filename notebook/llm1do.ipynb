{
 "cells": [
  {
   "metadata": {
    "ExecuteTime": {
     "end_time": "2025-01-28T22:17:24.871037Z",
     "start_time": "2025-01-28T22:17:24.868072Z"
    }
   },
   "cell_type": "code",
   "source": "",
   "id": "95fbeed3fd9e5ae5",
   "outputs": [],
   "execution_count": null
  },
  {
   "metadata": {},
   "cell_type": "markdown",
   "source": "# LLM1DO Exploring Prisoners’ Voices: Keyword and Topics Analysis of CarteBollate Journals (2009-2024)\n",
   "id": "45beba5591e326a0"
  }
 ],
 "metadata": {
  "kernelspec": {
   "name": "python3",
   "language": "python",
   "display_name": "Python 3 (ipykernel)"
  }
 },
 "nbformat": 5,
 "nbformat_minor": 9
}
